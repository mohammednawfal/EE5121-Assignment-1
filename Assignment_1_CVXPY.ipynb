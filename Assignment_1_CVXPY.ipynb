{
 "cells": [
  {
   "cell_type": "code",
   "execution_count": 1,
   "id": "6a37e532",
   "metadata": {},
   "outputs": [],
   "source": [
    "import numpy as np\n",
    "import cvxpy as cp\n",
    "import random"
   ]
  },
  {
   "cell_type": "markdown",
   "id": "d5cf4418",
   "metadata": {},
   "source": [
    "### Q1 d.2) Solving the sparse recovery problem using CVXPY"
   ]
  },
  {
   "cell_type": "markdown",
   "id": "b5a2bb6a",
   "metadata": {},
   "source": [
    "- The sparse recovery problem for the fewest-pigments formulation is given by:\n",
    "$$\n",
    "\\min_{x \\in \\mathbb{R}^3} \\quad \\|x\\|_0 \\\\\n",
    "\\text{s.t.} \\quad Ax = b, \\\\\n",
    "\\quad x \\ge 0\n",
    "$$\n",
    "- However, the above problem is not a convex optimisation problem. CVXPY requires the problem to be convex inorder for it to be solved. Hence, we shall use the $l_1$ relaxation of the sparse recovery problem as a proxy as it is a convex problem. The $l_1$ problem is formulated as:\n",
    "$$\n",
    "\\min_{x \\in \\mathbb{R}^3} \\quad \\|x\\|_1 \\\\\n",
    "\\text{s.t.} \\quad Ax = b, \\\\\n",
    "\\quad x \\ge 0\n",
    "$$"
   ]
  },
  {
   "cell_type": "code",
   "execution_count": 2,
   "id": "b8a88c66",
   "metadata": {},
   "outputs": [],
   "source": [
    "#Initialising the matrix A and vector b\n",
    "A = np.array([[1,0,1],\n",
    "              [0,1,1],\n",
    "              [1,1,2]],dtype=np.float32)\n",
    "b = np.array([0.2,0.8,1.0])"
   ]
  },
  {
   "cell_type": "code",
   "execution_count": 3,
   "id": "eab2af10",
   "metadata": {},
   "outputs": [],
   "source": [
    "#Initialising the solution vector x, the constraints, and the objective function\n",
    "x = cp.Variable(3)\n",
    "constraints = [A@x == b,x >= 0]\n",
    "objective = cp.Minimize(cp.norm1(x)) #We are using the L1 relaxation since L0 is not convex and would not follow the expected structure that CVXPY requires"
   ]
  },
  {
   "cell_type": "code",
   "execution_count": 4,
   "id": "76d5c578",
   "metadata": {},
   "outputs": [],
   "source": [
    "#Setting up the problem to be solved\n",
    "problem = cp.Problem(objective,constraints)"
   ]
  },
  {
   "cell_type": "code",
   "execution_count": 5,
   "id": "d29fa390",
   "metadata": {},
   "outputs": [
    {
     "name": "stdout",
     "output_type": "stream",
     "text": [
      "problem is DCP: True\n"
     ]
    }
   ],
   "source": [
    "#Checking if the problem formulation is disciplined (follows the expected structure that CVXPY requires)\n",
    "print(\"problem is DCP:\", problem.is_dcp())"
   ]
  },
  {
   "cell_type": "code",
   "execution_count": 11,
   "id": "1c718f55",
   "metadata": {},
   "outputs": [
    {
     "name": "stdout",
     "output_type": "stream",
     "text": [
      "status: optimal\n",
      "optimal value of the objective: 0.8000000014092193\n",
      "optimal value of x: [1.40921960e-09 6.00000001e-01 1.99999999e-01]\n",
      "Optimal support of x: [1 2]\n",
      "Residual norm: 2.056349140077291e-15\n"
     ]
    }
   ],
   "source": [
    "#Solving the convex optimisation problem and checking if optimality is achieved, and what are the optimal solutions, and optimal objective values\n",
    "problem.solve() \n",
    "print(\"status:\", problem.status)\n",
    "print(\"optimal value of the objective:\", problem.value)\n",
    "print(\"optimal value of x:\", x.value)\n",
    "print(\"Optimal support of x:\", np.nonzero(np.round(x.value, 6))[0])\n",
    "print(\"Residual norm:\", np.linalg.norm(A @ x.value - b))"
   ]
  },
  {
   "cell_type": "markdown",
   "id": "a46e7369",
   "metadata": {},
   "source": [
    "- CVXPY was able to achieve an optimal solution.\n",
    "- The optimal value of $x$ is [0,0.6,0.2]. However due to numerical precision and rounding, the values reported by the solver are off by very small amounts, which can be resolved by rounding it off.\n",
    "- This was one of the solutions when the sparse recovery problem was solved by hand, and is the exact solution that was obtained when the $l_1$ relaxation was solved by hand.\n",
    "- The support of $x$ is [1,2] (0-indexing in python) or [2,3] (1-indexing as in regular linear algebra notations). \n",
    "- Residual norm $||Ax - b||_2$ is very close to zero, indicating an exact solution to the constraint $Ax = b$."
   ]
  },
  {
   "cell_type": "markdown",
   "id": "5fe148cb",
   "metadata": {},
   "source": [
    "### Q1 e.2) Solving the modified sparse recovery problem using CVXPY"
   ]
  },
  {
   "cell_type": "markdown",
   "id": "2565dacb",
   "metadata": {},
   "source": [
    "- Since the constraint $Ax = b$ is infeasible, we have replaced it with a relaxed constraint $||Ax - b||_2 \\leq t$ and introduced the slack variable $t$ in the objective.\n",
    "- The modified $l_1$ relaxation problem is now:\n",
    "$$\n",
    "\\min_{x \\in \\mathbb{R}^3, t \\in \\mathbb{R}} \\quad \\|x\\|_1 + t \\\\\n",
    "\\text{s.t.} \\quad ||Ax - b||_2 \\leq t, \\\\\n",
    "\\quad x \\ge 0\n",
    "\\quad t \\ge 0\n",
    "$$"
   ]
  },
  {
   "cell_type": "code",
   "execution_count": 12,
   "id": "b731f82d",
   "metadata": {},
   "outputs": [],
   "source": [
    "#Initialising the matrix A and vector b\n",
    "A = np.array([[1,0,1],\n",
    "              [0,1,1],\n",
    "              [1,1,2]],dtype=np.float32)\n",
    "b = np.array([0.2,0.8,0.95])"
   ]
  },
  {
   "cell_type": "code",
   "execution_count": 13,
   "id": "df11e64a",
   "metadata": {},
   "outputs": [],
   "source": [
    "#Initialising the solution vector x, the constraints, and the objective function\n",
    "x = cp.Variable(3)\n",
    "t = cp.Variable(nonneg = True) # t is non-negative\n",
    "constraints = [cp.norm2(A@x - b) <= t,x >= 0]\n",
    "objective = cp.Minimize(cp.norm1(x) + t) #We are using the L1 relaxation since L0 is not convex and would not follow the expected structure that CVXPY requires"
   ]
  },
  {
   "cell_type": "code",
   "execution_count": 14,
   "id": "c62a443e",
   "metadata": {},
   "outputs": [],
   "source": [
    "#Setting up the problem to be solved\n",
    "problem = cp.Problem(objective,constraints)"
   ]
  },
  {
   "cell_type": "code",
   "execution_count": 15,
   "id": "88c7da01",
   "metadata": {},
   "outputs": [
    {
     "name": "stdout",
     "output_type": "stream",
     "text": [
      "problem is DCP: True\n"
     ]
    }
   ],
   "source": [
    "#Checking if the problem formulation is disciplined (follows the expected structure that CVXPY requires)\n",
    "print(\"problem is DCP:\", problem.is_dcp())"
   ]
  },
  {
   "cell_type": "code",
   "execution_count": 16,
   "id": "f7b54a95",
   "metadata": {},
   "outputs": [
    {
     "name": "stdout",
     "output_type": "stream",
     "text": [
      "status: optimal\n",
      "optimal value of objective: 0.7999999996093653\n",
      "optimal value of x: [1.28998046e-09 5.50003877e-01 1.99998353e-01]\n",
      "Optimal support of x: [1 2]\n",
      "Residual norm: 0.04999777018216895\n"
     ]
    }
   ],
   "source": [
    "#Solving the convex optimisation problem and checking if optimality is achieved, and what are the optimal solutions, and optimal objective values\n",
    "problem.solve() \n",
    "print(\"status:\", problem.status)\n",
    "print(\"optimal value of objective:\", problem.value)\n",
    "print(\"optimal value of x:\", x.value)\n",
    "print(\"Optimal support of x:\", np.nonzero(np.round(x.value, 6))[0])\n",
    "print(\"Residual norm:\", np.linalg.norm(A @ x.value - b))"
   ]
  },
  {
   "cell_type": "markdown",
   "id": "5d150852",
   "metadata": {},
   "source": [
    "- CVXPY has attained an optimal solution to the modified problem.\n",
    "- The optimal value of $x$ is [0,0.55,0.2], but as seen before, the values are off by a very small amount due to floating point precision and rounding.\n",
    "- The support of $x$ is same as it was for the original problem: [1,2] (0-indexing) or [2,3] (regular indexing).\n",
    "- The residual norm now is 0.049, which shows that the solver was able to find a solution that minimised residual norm, and at the same time, was able to give a relatively more sparse solution than the original problem."
   ]
  },
  {
   "cell_type": "markdown",
   "id": "bb8a77cc",
   "metadata": {},
   "source": [
    "### Q2 c.1) Solving nuclear norm minimisation using CVXPY"
   ]
  },
  {
   "cell_type": "markdown",
   "id": "8ca6b8cc",
   "metadata": {},
   "source": [
    "- The rank minimisation problem is formulated as:\n",
    "$$\n",
    "\\min_{X \\in \\mathbb{R}^{p\\times n}} \\; \\text{rank}(X) \n",
    "\\quad \\text{s.t.} \\quad AX = B\n",
    "$$\n",
    "- However, this is not a convex problem and hence, CVXPY cannot solve it directly.\n",
    "- Instead, to solve the Multi-Experiment system identification problem, we shall use the nuclear norm minimisation problem as a proxy as it is a convex problem.\n",
    "$$\n",
    "\\min_{X \\in \\mathbb{R}^{p\\times n}} \\; \\|X\\|_* \n",
    "\\quad \\text{s.t.} \\quad AX = B\n",
    "$$"
   ]
  },
  {
   "cell_type": "code",
   "execution_count": null,
   "id": "cad277f3",
   "metadata": {},
   "outputs": [],
   "source": [
    "#Intialising matrices A and B (5x5 matrices)\n",
    "A = np.array([\n",
    "    [1.0,0.0,0.0,0.0,0.0],\n",
    "    [0.8,1.0,0.0,0.0,0.0],\n",
    "    [-0.2,0.8,1.0,0.0,0.0],\n",
    "    [0.5,-0.2,0.8,1.0,0.0],\n",
    "    [0.0,0.5,-0.2,0.8,1.0]\n",
    "])\n",
    "B = np.array([\n",
    "    [1.0, -1.0, 0.0, 0.0, 1.0],\n",
    "    [2.8, -0.8, 1.0, -1.0, 0.8],\n",
    "    [2.4, 1.2, 1.8, -1.8, -1.2],\n",
    "    [2.9, -1.7, 0.6, -0.6, 1.7],\n",
    "    [0.4, -1.8, -0.7, 0.7, 1.8]\n",
    "])"
   ]
  },
  {
   "cell_type": "code",
   "execution_count": null,
   "id": "f355d228",
   "metadata": {},
   "outputs": [],
   "source": [
    "#Intialising the constraints, objective function, and decision variable X\n",
    "X = cp.Variable((5,5))  #(5x5) Matrix\n",
    "constraints = [A@X == B]    \n",
    "objective = cp.Minimize(cp.normNuc(X))  #Nuclear norm of X"
   ]
  },
  {
   "cell_type": "code",
   "execution_count": 20,
   "id": "5b6f7766",
   "metadata": {},
   "outputs": [],
   "source": [
    "#Setting up the problem to be solved\n",
    "problem = cp.Problem(objective,constraints)"
   ]
  },
  {
   "cell_type": "code",
   "execution_count": 21,
   "id": "8291812d",
   "metadata": {},
   "outputs": [
    {
     "name": "stdout",
     "output_type": "stream",
     "text": [
      "problem is DCP: True\n"
     ]
    }
   ],
   "source": [
    "#Checking if the problem formulation is disciplined (follows the expected structure that CVXPY requires)\n",
    "print(\"problem is DCP:\", problem.is_dcp())"
   ]
  },
  {
   "cell_type": "code",
   "execution_count": 24,
   "id": "fb1d27cf",
   "metadata": {},
   "outputs": [
    {
     "name": "stdout",
     "output_type": "stream",
     "text": [
      "status: optimal\n",
      "optimal value of objective: 7.928082986664531\n",
      "optimal value of X (without rounding):\n",
      "[[ 9.99999971e-01 -9.99999989e-01 -8.61026973e-09  8.61026972e-09\n",
      "   9.99999989e-01]\n",
      " [ 2.00000006e+00 -2.31914014e-08  1.00000002e+00 -1.00000002e+00\n",
      "   2.31914014e-08]\n",
      " [ 9.99999925e-01  1.00000002e+00  9.99999972e-01 -9.99999972e-01\n",
      "  -1.00000002e+00]\n",
      " [ 2.00000011e+00 -2.00000003e+00  3.97572976e-08 -3.97572975e-08\n",
      "   2.00000003e+00]\n",
      " [-2.00000014e+00  5.25433735e-08 -1.00000005e+00  1.00000005e+00\n",
      "  -5.25433732e-08]]\n",
      "optimal value of X (with rounding):\n",
      "[[ 1. -1. -0.  0.  1.]\n",
      " [ 2. -0.  1. -1.  0.]\n",
      " [ 1.  1.  1. -1. -1.]\n",
      " [ 2. -2.  0. -0.  2.]\n",
      " [-2.  0. -1.  1. -0.]]\n"
     ]
    }
   ],
   "source": [
    "#Solving the convex optimisation problem and checking if optimality is achieved, and what are the optimal solutions, and optimal objective values\n",
    "problem.solve() \n",
    "print(\"status:\", problem.status)\n",
    "print(\"optimal value of objective:\", problem.value)\n",
    "print(\"optimal value of X (without rounding):\")\n",
    "print(X.value)\n",
    "print(\"optimal value of X (with rounding):\")\n",
    "print(np.round(X.value,6))"
   ]
  },
  {
   "cell_type": "markdown",
   "id": "939b5df1",
   "metadata": {},
   "source": [
    "- CVXPY was able to achieve an optimal solution.\n",
    "- Due to precision and rounding of floating point values, the optimiser obtained looks a bit messy due to very small decimal point variations. After rounding it off to the $6^{th}$ decimal place, we see that the optimiser has a nice structure.\n",
    "- The optimal value of the objective is 7.928"
   ]
  },
  {
   "cell_type": "markdown",
   "id": "367d85c9",
   "metadata": {},
   "source": [
    "### Q2 c.2) Solving modified nuclear norm minimisation using CVXPY"
   ]
  },
  {
   "cell_type": "markdown",
   "id": "5900aee8",
   "metadata": {},
   "source": [
    "- Since the constraint $AX = B$ is now infeasible due to the addition of noise, we have relaxed the constraint as $||AX - B||_F \\leq t$, and introduced the slace variable $t$ in the objective.\n",
    "- The modified Nuclear Norm Minimisation problem is:\n",
    "$$\n",
    "\\min_{X \\in \\mathbb{R}^{p\\times n},t \\in \\mathbb{R}} \\; \\|X\\|_* + t \n",
    "\\quad \\text{s.t.} \\quad AX = B\n",
    "\\quad t \\ge 0\n",
    "$$"
   ]
  },
  {
   "cell_type": "code",
   "execution_count": 136,
   "id": "31078cac",
   "metadata": {},
   "outputs": [],
   "source": [
    "#Initialising matrices A and B (5x5 matrices)\n",
    "A = np.array([\n",
    "    [1.0,0.0,0.0,0.0,0.0],\n",
    "    [0.8,1.0,0.0,0.0,0.0],\n",
    "    [-0.2,0.8,1.0,0.0,0.0],\n",
    "    [0.5,-0.2,0.8,1.0,0.0],\n",
    "    [0.0,0.5,-0.2,0.8,1.0]\n",
    "])\n",
    "B = np.array([\n",
    "    [1.0, -1.0, 0.0, 0.0, 1.0],\n",
    "    [2.8, -0.8, 1.0, -1.0, 0.8],\n",
    "    [2.4, 1.2, 1.8, -1.8, -1.2],\n",
    "    [2.9, -1.7, 0.6, -0.6, 1.7],\n",
    "    [0.4, -1.8, -0.7, 0.7, 1.8]\n",
    "])"
   ]
  },
  {
   "cell_type": "markdown",
   "id": "3d0be3f9",
   "metadata": {},
   "source": [
    "- We are fixing a seed so that the noise added via $N$ is consistent and reproducible.\n",
    "- $N \\in \\mathbb{R}^{5 \\times 5}$ such that $N[i,j] \\sim \\mathcal{N}(0,0.1)$ if $i = j$ and 0 if $i \\neq j$"
   ]
  },
  {
   "cell_type": "code",
   "execution_count": 137,
   "id": "e87f9d6a",
   "metadata": {},
   "outputs": [
    {
     "name": "stdout",
     "output_type": "stream",
     "text": [
      "N =\n",
      " [[ 0.15707481  0.          0.          0.          0.        ]\n",
      " [ 0.         -0.04372301  0.          0.          0.        ]\n",
      " [ 0.          0.          0.2048171   0.          0.        ]\n",
      " [ 0.          0.          0.          0.48162433  0.        ]\n",
      " [ 0.          0.          0.          0.         -0.0740458 ]]\n"
     ]
    }
   ],
   "source": [
    "np.random.seed(42) #Fixing seed for reproducibility\n",
    "diagonal_entries = np.random.normal(loc=0.0, scale=np.sqrt(0.1), size=5) #Initialising N\n",
    "N = np.diag(diagonal_entries)\n",
    "print(\"N =\\n\", N)"
   ]
  },
  {
   "cell_type": "code",
   "execution_count": 138,
   "id": "781fd3c2",
   "metadata": {},
   "outputs": [
    {
     "name": "stdout",
     "output_type": "stream",
     "text": [
      "[[ 1.15707481 -1.          0.          0.          1.        ]\n",
      " [ 2.8        -0.84372301  1.         -1.          0.8       ]\n",
      " [ 2.4         1.2         2.0048171  -1.8        -1.2       ]\n",
      " [ 2.9        -1.7         0.6        -0.11837567  1.7       ]\n",
      " [ 0.4        -1.8        -0.7         0.7         1.7259542 ]]\n"
     ]
    }
   ],
   "source": [
    "#Adding N to B to get noisy B\n",
    "B = B + N\n",
    "print(B)"
   ]
  },
  {
   "cell_type": "code",
   "execution_count": 139,
   "id": "8eafe588",
   "metadata": {},
   "outputs": [],
   "source": [
    "#Intialising decision variable X, slack variable t, constraints, and objective function\n",
    "X = cp.Variable((5,5))\n",
    "t = cp.Variable(nonneg = True)\n",
    "constraints = [cp.norm(A@X - B,\"fro\") <= t] #Frobenius norm inequality\n",
    "objective = cp.Minimize(cp.normNuc(X) + t)  #Nuclear norm + t"
   ]
  },
  {
   "cell_type": "code",
   "execution_count": 140,
   "id": "18d042c8",
   "metadata": {},
   "outputs": [],
   "source": [
    "#Setting up the problem to be solved\n",
    "problem = cp.Problem(objective,constraints)"
   ]
  },
  {
   "cell_type": "code",
   "execution_count": 141,
   "id": "c4cb236f",
   "metadata": {},
   "outputs": [
    {
     "name": "stdout",
     "output_type": "stream",
     "text": [
      "problem is DCP: True\n"
     ]
    }
   ],
   "source": [
    "#Checking if the problem formulation is disciplined (follows the expected structure that CVXPY requires)\n",
    "print(\"problem is DCP:\", problem.is_dcp())"
   ]
  },
  {
   "cell_type": "code",
   "execution_count": 142,
   "id": "850bfa85",
   "metadata": {},
   "outputs": [
    {
     "name": "stdout",
     "output_type": "stream",
     "text": [
      "status: optimal\n",
      "optimal value of objective: 6.891657524566875\n",
      "optimal value of X:\n",
      "[[ 0.96888831 -0.63148695  0.1687221  -0.08882722  0.61809172]\n",
      " [ 0.91715889  0.00184829  0.49293127 -0.42477218 -0.00453722]\n",
      " [ 1.05285433  0.09826737  0.61928766 -0.54221194 -0.09974634]\n",
      " [ 0.62983802 -0.70055562 -0.05149381  0.1070577   0.68701207]\n",
      " [-0.09251433 -0.34239755 -0.23988415  0.23726486  0.3369615 ]]\n"
     ]
    }
   ],
   "source": [
    "#Solving the convex optimisation problem and checking if optimality is achieved, and what are the optimal solutions, and optimal objective values\n",
    "problem.solve() \n",
    "print(\"status:\", problem.status)\n",
    "print(\"optimal value of objective:\", problem.value)\n",
    "print(\"optimal value of X:\")\n",
    "print(X.value)"
   ]
  },
  {
   "cell_type": "markdown",
   "id": "f75f1610",
   "metadata": {},
   "source": [
    "- CVXPY was able to arrive at an optimal solution.\n",
    "- The optimal value of the objective is 6.892, which is smaller than the original problem's objective value at optimality.\n",
    "- The values beyond the $6^{th}$ decimal place change during each run due to floating point precision operations and rounding."
   ]
  }
 ],
 "metadata": {
  "kernelspec": {
   "display_name": "Python 3",
   "language": "python",
   "name": "python3"
  },
  "language_info": {
   "codemirror_mode": {
    "name": "ipython",
    "version": 3
   },
   "file_extension": ".py",
   "mimetype": "text/x-python",
   "name": "python",
   "nbconvert_exporter": "python",
   "pygments_lexer": "ipython3",
   "version": "3.12.3"
  }
 },
 "nbformat": 4,
 "nbformat_minor": 5
}
